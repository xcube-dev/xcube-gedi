{
 "cells": [
  {
   "cell_type": "code",
   "execution_count": 1,
   "id": "5c358290-ec3a-48bb-88b1-46e8d80dfb69",
   "metadata": {},
   "outputs": [],
   "source": [
    "from xcube_gedi.store import GediDataStore"
   ]
  },
  {
   "cell_type": "code",
   "execution_count": 2,
   "id": "576a89be-964d-44d5-bcb7-49d04ed4e703",
   "metadata": {},
   "outputs": [
    {
     "data": {
      "text/plain": [
       "'0.1.0.dev'"
      ]
     },
     "execution_count": 2,
     "metadata": {},
     "output_type": "execute_result"
    }
   ],
   "source": [
    "import xcube_gedi\n",
    "xcube_gedi.__version__"
   ]
  },
  {
   "cell_type": "code",
   "execution_count": 3,
   "id": "3aaa0bfc-925e-4fa2-a6d7-e9f4e81918c5",
   "metadata": {},
   "outputs": [],
   "source": [
    "gedi = GediDataStore()"
   ]
  },
  {
   "cell_type": "code",
   "execution_count": 4,
   "id": "512e73b5-ba8b-43ce-8d1a-7ab98fd8e0cd",
   "metadata": {},
   "outputs": [
    {
     "ename": "NotImplementedError",
     "evalue": "",
     "output_type": "error",
     "traceback": [
      "\u001b[31m---------------------------------------------------------------------------\u001b[39m",
      "\u001b[31mNotImplementedError\u001b[39m                       Traceback (most recent call last)",
      "\u001b[36mCell\u001b[39m\u001b[36m \u001b[39m\u001b[32mIn[4]\u001b[39m\u001b[32m, line 1\u001b[39m\n\u001b[32m----> \u001b[39m\u001b[32m1\u001b[39m \u001b[43mgedi\u001b[49m\u001b[43m.\u001b[49m\u001b[43mlist_data_ids\u001b[49m\u001b[43m(\u001b[49m\u001b[43m)\u001b[49m\n",
      "\u001b[36mFile \u001b[39m\u001b[32m~/miniforge3/envs/xcube-gedi/lib/python3.13/site-packages/xcube/core/store/store.py:284\u001b[39m, in \u001b[36mDataStore.list_data_ids\u001b[39m\u001b[34m(self, data_type, include_attrs)\u001b[39m\n\u001b[32m    256\u001b[39m \u001b[38;5;28;01mdef\u001b[39;00m\u001b[38;5;250m \u001b[39m\u001b[34mlist_data_ids\u001b[39m(\n\u001b[32m    257\u001b[39m     \u001b[38;5;28mself\u001b[39m,\n\u001b[32m    258\u001b[39m     data_type: DataTypeLike = \u001b[38;5;28;01mNone\u001b[39;00m,\n\u001b[32m    259\u001b[39m     include_attrs: Container[\u001b[38;5;28mstr\u001b[39m] | \u001b[38;5;28mbool\u001b[39m = \u001b[38;5;28;01mFalse\u001b[39;00m,\n\u001b[32m    260\u001b[39m ) -> Union[\u001b[38;5;28mlist\u001b[39m[\u001b[38;5;28mstr\u001b[39m], \u001b[38;5;28mlist\u001b[39m[\u001b[38;5;28mtuple\u001b[39m[\u001b[38;5;28mstr\u001b[39m, \u001b[38;5;28mdict\u001b[39m[\u001b[38;5;28mstr\u001b[39m, Any]]]]:\n\u001b[32m    261\u001b[39m \u001b[38;5;250m    \u001b[39m\u001b[33;03m\"\"\"Convenience version of `get_data_ids()` that returns a list rather\u001b[39;00m\n\u001b[32m    262\u001b[39m \u001b[33;03m    than an iterator.\u001b[39;00m\n\u001b[32m    263\u001b[39m \n\u001b[32m   (...)\u001b[39m\u001b[32m    282\u001b[39m \u001b[33;03m        DataStoreError: If an error occurs.\u001b[39;00m\n\u001b[32m    283\u001b[39m \u001b[33;03m    \"\"\"\u001b[39;00m\n\u001b[32m--> \u001b[39m\u001b[32m284\u001b[39m     \u001b[38;5;28;01mreturn\u001b[39;00m \u001b[38;5;28mlist\u001b[39m(\u001b[38;5;28;43mself\u001b[39;49m\u001b[43m.\u001b[49m\u001b[43mget_data_ids\u001b[49m\u001b[43m(\u001b[49m\u001b[43mdata_type\u001b[49m\u001b[43m=\u001b[49m\u001b[43mdata_type\u001b[49m\u001b[43m,\u001b[49m\u001b[43m \u001b[49m\u001b[43minclude_attrs\u001b[49m\u001b[43m=\u001b[49m\u001b[43minclude_attrs\u001b[49m\u001b[43m)\u001b[49m)\n",
      "\u001b[36mFile \u001b[39m\u001b[32m~/Projects/BC/xcube-gedi/xcube_gedi/store.py:59\u001b[39m, in \u001b[36mGediDataStore.get_data_ids\u001b[39m\u001b[34m(self, data_type, include_attrs)\u001b[39m\n\u001b[32m     54\u001b[39m \u001b[38;5;28;01mdef\u001b[39;00m\u001b[38;5;250m \u001b[39m\u001b[34mget_data_ids\u001b[39m(\n\u001b[32m     55\u001b[39m         \u001b[38;5;28mself\u001b[39m,\n\u001b[32m     56\u001b[39m         data_type: DataTypeLike = \u001b[38;5;28;01mNone\u001b[39;00m,\n\u001b[32m     57\u001b[39m         include_attrs: Container[\u001b[38;5;28mstr\u001b[39m] | \u001b[38;5;28mbool\u001b[39m = \u001b[38;5;28;01mFalse\u001b[39;00m,\n\u001b[32m     58\u001b[39m ) -> Union[Iterator[\u001b[38;5;28mstr\u001b[39m], Iterator[\u001b[38;5;28mtuple\u001b[39m[\u001b[38;5;28mstr\u001b[39m, \u001b[38;5;28mdict\u001b[39m[\u001b[38;5;28mstr\u001b[39m, Any]]]]:\n\u001b[32m---> \u001b[39m\u001b[32m59\u001b[39m     \u001b[38;5;28;01mraise\u001b[39;00m \u001b[38;5;167;01mNotImplementedError\u001b[39;00m\n",
      "\u001b[31mNotImplementedError\u001b[39m: "
     ]
    }
   ],
   "source": [
    "gedi.list_data_ids()"
   ]
  }
 ],
 "metadata": {
  "kernelspec": {
   "display_name": "Python 3 (ipykernel)",
   "language": "python",
   "name": "python3"
  },
  "language_info": {
   "codemirror_mode": {
    "name": "ipython",
    "version": 3
   },
   "file_extension": ".py",
   "mimetype": "text/x-python",
   "name": "python",
   "nbconvert_exporter": "python",
   "pygments_lexer": "ipython3",
   "version": "3.13.3"
  }
 },
 "nbformat": 4,
 "nbformat_minor": 5
}
